{
 "cells": [
  {
   "cell_type": "code",
   "execution_count": 3,
   "metadata": {},
   "outputs": [
    {
     "name": "stdout",
     "output_type": "stream",
     "text": [
      "Succesfully import of packages.\n"
     ]
    }
   ],
   "source": [
    "try:\n",
    "    import numpy as np \n",
    "    from matplotlib import pyplot as plt\n",
    "\n",
    "    import scipy.misc\n",
    "    from scipy import ndimage\n",
    "\n",
    "    import skimage as sk\n",
    "\n",
    "    from PIL import Image \n",
    "    from PIL.ExifTags import TAGS, GPSTAGS\n",
    "\n",
    "    from ALP4 import *\n",
    "    import time\n",
    "\n",
    "    print('Succesfully import of packages.')\n",
    "except:\n",
    "    print('Error importing packages.')\n",
    "    "
   ]
  },
  {
   "cell_type": "code",
   "execution_count": 4,
   "metadata": {},
   "outputs": [],
   "source": [
    "resX = 1024;\n",
    "resY = 768;\n",
    "P0 = 0.5; \n",
    "sigX = 146;\n",
    "sigY = sigX; \n",
    "\n",
    "x = np.arange(-resX/2,resX/2);   \n",
    "y = np.arange(-resY/2,resY/2);\n",
    "n = 8;\n",
    "\n",
    "apRad = 40;\n",
    "space = 15;\n",
    "light_shift_coord_x = 4;\n",
    "light_shift_coord_y = 4;\n",
    "\n",
    "angle = 45;\n",
    "mesh = np.meshgrid(x,y);\n",
    "\n",
    "radius = 200.0;\n",
    "origin = [int(0), int(0)];\n",
    "\n",
    "ref_im = 'refim.png';\n",
    "\n",
    "ringPat = np.zeros((resY, resX), dtype = int);\n",
    "sepsit = np.zeros((resY, resX), dtype = int);\n",
    "RoDp = np.zeros((resY, resX), dtype = int);\n",
    "diskp = np.zeros((resY, resX), dtype = int);\n",
    "\n",
    "profile = [ 2, 4, 6, 160, 200, 250, 300];#, 400, 600, 800, 1000, 1200]; #try to follow profile from .py\n",
    "gap = 2;"
   ]
  },
  {
   "cell_type": "code",
   "execution_count": 55,
   "metadata": {},
   "outputs": [],
   "source": [
    "def saveIm(imagen, namef='image.png' ):\n",
    "    scipy.misc.toimage(imagen, cmin=0, cmax=1).save(namef);\n",
    "\n",
    "def Im2bin(pat, namef='image.png'):\n",
    "    npat = pat.astype('bool');\n",
    "    return npat\n",
    "\n",
    "def site(mesh, i, j, pat):\n",
    "        pat[np.logical_and(np.abs(mesh[0]-j) < apRad/2, np.abs(mesh[1]-i) < apRad/2)] = 1;\n",
    "\n",
    "def ring(center, radius, nr):\n",
    "\n",
    "    xpos = [];\n",
    "    ypos = [];\n",
    "\n",
    "    ang = 2*np.pi/nr;\n",
    "    origin = center;\n",
    "\n",
    "    for i in range(nr):\n",
    "        x, y = [int(radius*np.cos(ang*i)) + origin[0], int(radius*np.sin(ang*i))+origin[1]];\n",
    "        xpos.append(x) ; ypos.append(y);\n",
    "    return xpos, ypos, origin\n",
    "\n",
    "def RingPattern(mesh, xpos, ypos, pat):\n",
    "\n",
    "    for i, j in zip(xpos, ypos):\n",
    "        Osite(mesh, i, j, pat);\n",
    "\n",
    "    bpatBW = Im2bin(pat); #It seems DMD doesn't with this format only\n",
    "    dummie = sk.img_as_bool(bpatBW); #to a boolean\n",
    "\n",
    "    return dummie\n",
    "\n",
    "def dmd_prep(refim, finalim, fname, angval=0, mode=False):\n",
    "\n",
    "    pic1 = refim;\t#reference image for extract the palette\n",
    "    pic2 = finalim;\t#image to be save\n",
    "\n",
    "    image1 = Image.open(pic1);\n",
    "    image2 = Image.open(pic2);\n",
    "\n",
    "    pal1=image1.getpalette() #getting palette\n",
    "    image2.putpalette(pal1)\t #assigning the reference palette in the final image's palette\n",
    "\n",
    "    if angval != 0:\n",
    "        image2 = imcrop(image2, (resX,resY));\n",
    "\n",
    "    image2.save(fname + \".PNG\", dpi=(72,72), bits=1);\n",
    "\n",
    "def Osite(mesh, i, j, pat):\n",
    "        pat[np.logical_and( np.abs( (mesh[0]-j)**2 ) < apRad/2 - np.abs((mesh[1]-i)**2) , np.abs( (mesh[1]-i)**2 ) < apRad/2 - np.abs( (mesh[0]-j)**2 ))] = 1;\n",
    "\n",
    "def OsiteDif(mesh, i, j, pat, val,apRad):\n",
    "        pat[np.logical_and( np.abs( (mesh[0]-j)**2 ) < apRad/2 - np.abs((mesh[1]-i)**2) , np.abs( (mesh[1]-i)**2 ) < apRad/2 - np.abs( (mesh[0]-j)**2 ))] = val;\n",
    "\n",
    "def disk(mesh, center, pat, profile, gap):\n",
    "    #copy of the original pattern to be modify\n",
    "    npat = np.copy(pat);\n",
    "\n",
    "    rad1 = [center[0]];\n",
    "    rad2 = [center[1]];\n",
    "\n",
    "    #for loop for the creation of the different rings\n",
    "    for j in range(len(profile)):\n",
    "\n",
    "        r2j = float(rad1[int(j)]) + float(profile[int(j)]);\n",
    "        rad2.append(r2j);\n",
    "\n",
    "        r1jj = float(rad2[int(j)]) + float(gap)*0.3;\n",
    "        rad1.append(r1jj);\n",
    "\n",
    "        value = 0;\n",
    "\n",
    "        for i in rad1[::-1]:\n",
    "            value = (value+1)%2;\n",
    "            Rad = i*2;\n",
    "            circ = OsiteDif(mesh, 0, 0, pat, value, Rad);\n",
    "\n",
    "    #getting bin image of pattern\n",
    "    bpatBW = Im2bin(pat); #It seems DMD doesn't with this format only\n",
    "    # bpat = sk.color.grey2rgb(rpat); #In case RGB format is need\n",
    "    dummie = sk.img_as_bool(bpatBW);\n",
    "\n",
    "#$#\n",
    "def disk2(mesh, center, pat, profile, gap):\n",
    "    #copy of the original pattern to be modify\n",
    "    npat = np.copy(pat);\n",
    "    \n",
    "    #setting inner and external radius structures\n",
    "    r = [center[0]];\n",
    "    R = [center[1]];\n",
    "    \n",
    "    #value for the pixel 0 or 1\n",
    "    value = 0;\n",
    "\n",
    "#     profile = [ 12, 20, 35, 60, 90, 120];#, 160, 200, 250, 300,400, 600, 800, 1000, 1200]; #try to follow profile from .py\n",
    "\n",
    "    #for loop for the creation of the different rings\n",
    "    for j in range(len(profile)):\n",
    "\n",
    "        Rj = r[int(j)] + profile[int(j)];\n",
    "        R.append(Rj);\n",
    "\n",
    "        rjj = R[int(j)] + float(gap);\n",
    "        r.append(rjj);\n",
    "        \n",
    "#         print(Rj, rjj)\n",
    "        \n",
    "        for i in r[::-1]:\n",
    "            print(value)\n",
    "            value = (value+1)%2;\n",
    "            Rad = i*2;\n",
    "#             print(Rad)\n",
    "            circ = OsiteDif(mesh, center[0], center[1], pat, value, Rad);\n",
    "    print(r,R)\n",
    "    \n",
    "    #getting bin image of pattern\n",
    "    bpatBW = Im2bin(pat); #It seems DMD doesn't with this format only\n",
    "    # bpat = sk.color.grey2rgb(rpat); #In case RGB format is need\n",
    "    dummie = sk.img_as_bool(bpatBW);\n",
    "    \n",
    "#$#\n",
    "def ringOfDisks(mesh, center, radius, n, RoDpat, profile, gap):\n",
    "    xpos, ypos, origin = ring(center, radius, n);\n",
    "\n",
    "    for i, j in zip(xpos, ypos):\n",
    "#         print(i,j)\n",
    "        disk2(mesh, [i,j], RoDpat, profile, gap)\n",
    "\n",
    "    bpatBW = Im2bin(RoDpat); #It seems DMD doesn't with this format only\n",
    "    dummie = sk.img_as_bool(bpatBW); #to a boolean\n",
    "\n",
    "    return dummie"
   ]
  },
  {
   "cell_type": "code",
   "execution_count": 56,
   "metadata": {},
   "outputs": [
    {
     "name": "stdout",
     "output_type": "stream",
     "text": [
      "[200, 2.0, 204.0, 8.0, 212.0, 170.0, 414.0, 422.0] [0, 202, 6.0, 210.0, 168.0, 412.0, 420.0, 714.0]\n",
      "[141, 143.0, 145.0, 149.0, 153.0, 311.0, 355.0, 563.0] [141, 143, 147.0, 151.0, 309.0, 353.0, 561.0, 655.0]\n",
      "[0, 202.0, 4.0, 208.0, 12.0, 370.0, 214.0, 622.0] [200, 2, 206.0, 10.0, 368.0, 212.0, 620.0, 514.0]\n",
      "[-141, 143.0, -137.0, 149.0, -129.0, 311.0, 73.0, 563.0] [141, -139, 147.0, -131.0, 309.0, 71.0, 561.0, 373.0]\n",
      "[-200, 2.0, -196.0, 8.0, -188.0, 170.0, 14.0, 422.0] [0, -198, 6.0, -190.0, 168.0, 12.0, 420.0, 314.0]\n",
      "[-141, -139.0, -137.0, -133.0, -129.0, 29.0, 73.0, 281.0] [-141, -139, -135.0, -131.0, 27.0, 71.0, 279.0, 373.0]\n",
      "[0, -198.0, 4.0, -192.0, 12.0, -30.0, 214.0, 222.0] [-200, 2, -194.0, 10.0, -32.0, 212.0, 220.0, 514.0]\n",
      "[141, -139.0, 145.0, -133.0, 153.0, 29.0, 355.0, 281.0] [-141, 143, -135.0, 151.0, 27.0, 353.0, 279.0, 655.0]\n"
     ]
    }
   ],
   "source": [
    "RoD = ringOfDisks(mesh, origin, radius, n, RoDp, profile, gap)"
   ]
  },
  {
   "cell_type": "code",
   "execution_count": 57,
   "metadata": {},
   "outputs": [
    {
     "data": {
      "image/png": "[encoded data removed]",
      "text/plain": [
       "<Figure size 432x288 with 1 Axes>"
      ]
     },
     "metadata": {},
     "output_type": "display_data"
    },
    {
     "data": {
      "text/plain": [
       "<Figure size 432x288 with 0 Axes>"
      ]
     },
     "metadata": {},
     "output_type": "display_data"
    }
   ],
   "source": [
    "plt.figure()\n",
    "plt.imshow(RoD)\n",
    "plt.grid(b=None, which='both', axis='both')\n",
    "# plt.xlim(right=400,left=800)  # adjust the right leaving left unchanged\n",
    "# plt.ylim(top=300,bottom=600) \n",
    "plt.show()\n",
    "plt.savefig('output.png', dpi=300, bbox_inches='tight')"
   ]
  },
  {
   "cell_type": "code",
   "execution_count": 58,
   "metadata": {},
   "outputs": [
    {
     "name": "stdout",
     "output_type": "stream",
     "text": [
      "[200, 202.0, 204.0, 208.0, 212.0, 370.0, 414.0, 622.0] [200, 202, 206.0, 210.0, 368.0, 412.0, 620.0, 714.0]\n"
     ]
    },
    {
     "data": {
      "text/plain": [
       "<matplotlib.image.AxesImage at 0x1218e1080>"
      ]
     },
     "execution_count": 58,
     "metadata": {},
     "output_type": "execute_result"
    },
    {
     "data": {
      "image/png": "[encoded data removed]",
      "text/plain": [
       "<Figure size 432x288 with 1 Axes>"
      ]
     },
     "metadata": {},
     "output_type": "display_data"
    }
   ],
   "source": [
    "RoD = np.zeros((resY, resX), dtype = int);\n",
    "'''200 0\n",
    "141 141\n",
    "0 200\n",
    "-141 141\n",
    "-200 0\n",
    "-141 -141\n",
    "0 -200\n",
    "141 -141'''\n",
    "disk2(mesh, [200,200], RoD, profile, gap)\n",
    "plt.imshow(RoD)\n",
    "# plt.xlim(right=800,left=600)  # adjust the right leaving left unchanged\n",
    "# plt.ylim(top=650, bottom=550) "
   ]
  },
  {
   "cell_type": "code",
   "execution_count": null,
   "metadata": {},
   "outputs": [],
   "source": [
    "diskpat = disk2(mesh, [100,100], diskp, profile, gap);"
   ]
  },
  {
   "cell_type": "code",
   "execution_count": null,
   "metadata": {},
   "outputs": [],
   "source": [
    "plt.figure()\n",
    "plt.imshow(diskp)\n",
    "plt.grid(b=None, which='both', axis='both')\n",
    "# plt.xlim(right=400,left=800)  # adjust the right leaving left unchanged\n",
    "# plt.ylim(top=300,bottom=600) \n",
    "plt.show()"
   ]
  },
  {
   "cell_type": "code",
   "execution_count": null,
   "metadata": {},
   "outputs": [],
   "source": []
  },
  {
   "cell_type": "code",
   "execution_count": null,
   "metadata": {},
   "outputs": [],
   "source": []
  }
 ],
 "metadata": {
  "kernelspec": {
   "display_name": "Python 3",
   "language": "python",
   "name": "python3"
  },
  "language_info": {
   "codemirror_mode": {
    "name": "ipython",
    "version": 3
   },
   "file_extension": ".py",
   "mimetype": "text/x-python",
   "name": "python",
   "nbconvert_exporter": "python",
   "pygments_lexer": "ipython3",
   "version": "3.6.2"
  }
 },
 "nbformat": 4,
 "nbformat_minor": 2
}
