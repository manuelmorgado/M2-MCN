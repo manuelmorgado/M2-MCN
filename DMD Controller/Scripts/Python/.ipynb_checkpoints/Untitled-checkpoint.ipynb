{
 "cells": [
  {
   "cell_type": "code",
   "execution_count": 3,
   "metadata": {},
   "outputs": [
    {
     "name": "stdout",
     "output_type": "stream",
     "text": [
      "Succesfully import of packages.\n"
     ]
    }
   ],
   "source": [
    "try:\n",
    "    import numpy as np \n",
    "    from matplotlib import pyplot as plt\n",
    "\n",
    "    import scipy.misc\n",
    "    from scipy import ndimage\n",
    "\n",
    "    import skimage as sk\n",
    "\n",
    "    from PIL import Image \n",
    "    from PIL.ExifTags import TAGS, GPSTAGS\n",
    "\n",
    "    from ALP4 import *\n",
    "    import time\n",
    "\n",
    "    print('Succesfully import of packages.')\n",
    "except:\n",
    "    print('Error importing packages.')\n",
    "    "
   ]
  },
  {
   "cell_type": "code",
   "execution_count": 36,
   "metadata": {},
   "outputs": [],
   "source": [
    "resX = 1024;\n",
    "resY = 768;\n",
    "P0 = 0.5; \n",
    "sigX = 146;\n",
    "sigY = sigX; \n",
    "\n",
    "x = np.arange(-resX/2,resX/2);   \n",
    "y = np.arange(-resY/2,resY/2);\n",
    "n = 8;\n",
    "\n",
    "apRad = 40;\n",
    "space = 15;\n",
    "light_shift_coord_x = 4;\n",
    "light_shift_coord_y = 4;\n",
    "\n",
    "angle = 45;\n",
    "mesh = np.meshgrid(x,y);\n",
    "\n",
    "radius = 40.0;\n",
    "origin = [int(0), int(0)];\n",
    "\n",
    "ref_im = 'refim.png';\n",
    "\n",
    "ringPat = np.zeros((resY, resX), dtype = int);\n",
    "sepsit = np.zeros((resY, resX), dtype = int);\n",
    "RoDp = np.zeros((resY, resX), dtype = int);\n",
    "diskp = np.zeros((resY, resX), dtype = int);\n",
    "\n",
    "profile = [ 2, 4, 6, 160, 200, 250, 300,400, 600, 800, 1000, 1200]; #try to follow profile from .py\n",
    "gap = 2;"
   ]
  },
  {
   "cell_type": "code",
   "execution_count": 68,
   "metadata": {},
   "outputs": [],
   "source": [
    "def saveIm(imagen, namef='image.png' ):\n",
    "    scipy.misc.toimage(imagen, cmin=0, cmax=1).save(namef);\n",
    "\n",
    "def Im2bin(pat, namef='image.png'):\n",
    "    npat = pat.astype('bool');\n",
    "    return npat\n",
    "\n",
    "def site(mesh, i, j, pat):\n",
    "        pat[np.logical_and(np.abs(mesh[0]-j) < apRad/2, np.abs(mesh[1]-i) < apRad/2)] = 1;\n",
    "\n",
    "def ring(center, radius, nr):\n",
    "\n",
    "    xpos = [];\n",
    "    ypos = [];\n",
    "\n",
    "    ang = 2*np.pi/nr;\n",
    "    origin = center;\n",
    "\n",
    "    for i in range(nr):\n",
    "        x, y = [int(radius*np.cos(ang*i)) + origin[0], int(radius*np.sin(ang*i))+origin[1]];\n",
    "        xpos.append(x) ; ypos.append(y);\n",
    "    return xpos, ypos, origin\n",
    "\n",
    "def RingPattern(mesh, xpos, ypos, pat):\n",
    "\n",
    "    for i, j in zip(xpos, ypos):\n",
    "        Osite(mesh, i, j, pat);\n",
    "\n",
    "    bpatBW = Im2bin(pat); #It seems DMD doesn't with this format only\n",
    "    dummie = sk.img_as_bool(bpatBW); #to a boolean\n",
    "\n",
    "    return dummie\n",
    "\n",
    "def dmd_prep(refim, finalim, fname, angval=0, mode=False):\n",
    "\n",
    "    pic1 = refim;\t#reference image for extract the palette\n",
    "    pic2 = finalim;\t#image to be save\n",
    "\n",
    "    image1 = Image.open(pic1);\n",
    "    image2 = Image.open(pic2);\n",
    "\n",
    "    pal1=image1.getpalette() #getting palette\n",
    "    image2.putpalette(pal1)\t #assigning the reference palette in the final image's palette\n",
    "\n",
    "    if angval != 0:\n",
    "        image2 = imcrop(image2, (resX,resY));\n",
    "\n",
    "    image2.save(fname + \".PNG\", dpi=(72,72), bits=1);\n",
    "\n",
    "def Osite(mesh, i, j, pat):\n",
    "        pat[np.logical_and( np.abs( (mesh[0]-j)**2 ) < apRad/2 - np.abs((mesh[1]-i)**2) , np.abs( (mesh[1]-i)**2 ) < apRad/2 - np.abs( (mesh[0]-j)**2 ))] = 1;\n",
    "\n",
    "def OsiteDif(mesh, i, j, pat, val,apRad):\n",
    "        pat[np.logical_and( np.abs( (mesh[0]-j)**2 ) < apRad/2 - np.abs((mesh[1]-i)**2) , np.abs( (mesh[1]-i)**2 ) < apRad/2 - np.abs( (mesh[0]-j)**2 ))] = val;\n",
    "\n",
    "def disk(mesh, center, pat, profile, gap):\n",
    "    #copy of the original pattern to be modify\n",
    "    npat = np.copy(pat);\n",
    "\n",
    "    rad1 = [center[0]];\n",
    "    rad2 = [center[1]];\n",
    "\n",
    "    #for loop for the creation of the different rings\n",
    "    for j in range(len(profile)):\t\t\n",
    "\n",
    "        r2j = float(rad1[int(j)]) + float(profile[int(j)]);\n",
    "        rad2.append(r2j);\n",
    "\n",
    "        r1jj = float(rad2[int(j)]) + float(gap)*0.3;\n",
    "        rad1.append(r1jj);\n",
    "\n",
    "        value = 0;\n",
    "\n",
    "        for i in rad1[::-1]:\n",
    "            value = (value+1)%2;\n",
    "            Rad = i*2;\n",
    "            circ = OsiteDif(mesh, 0, 0, pat, value, Rad);\n",
    "\n",
    "    #getting bin image of pattern\n",
    "    bpatBW = Im2bin(pat); #It seems DMD doesn't with this format only\n",
    "    # bpat = sk.color.grey2rgb(rpat); #In case RGB format is need\n",
    "    dummie = sk.img_as_bool(bpatBW);\n",
    "#$#\n",
    "# def disk2(mesh, center, pat, profile, gap):\n",
    "\n",
    "#     npat = np.copy(pat);\n",
    "\n",
    "#     x0 = [center[0]];\n",
    "#     y0 = [center[1]];\n",
    "#     r1 = np.asarray(rad1); r2 = np.asarray(rad2)\n",
    "    \n",
    "#     # print(type(r1), type(r2), np.shape(r1), np.shape(r2))\n",
    "    \n",
    "#     for j in range(len(profile)):\n",
    "\n",
    "#         r2j = float(rad1[int(j)]) + float(profile[int(j)]);\n",
    "#         rad2.append(r2j);\n",
    "\n",
    "#         r1jj = float(rad2[int(j)]) + float(gap)*0.3;\n",
    "#         rad1.append(r1jj);\n",
    "\n",
    "#         value = 0;\n",
    "\n",
    "#         for i in rad1[::-1]:\n",
    "#             value = (value+1)%2;\n",
    "#             Rad = i*2;\n",
    "# #             print(i,j)\n",
    "#             # circ = OsiteDif(mesh, r1, r2, pat, value, Rad);\n",
    "#             circ = Osite(mesh,i,j,pat);\n",
    "#     bpatBW = Im2bin(pat); #It seems DMD doesn't with this format only\n",
    "#     dummie = sk.img_as_bool(bpatBW); #to \n",
    "def disk2(mesh, center, pat, profile, gap):\n",
    "    #copy of the original pattern to be modify\n",
    "    npat = np.copy(pat);\n",
    "\n",
    "    x0 = [center[0]];\n",
    "    y0 = [center[1]];\n",
    "\n",
    "    #for loop for the creation of the different rings\n",
    "    for j in range(len(profile)):\t\t\n",
    "\n",
    "        r2j = float(x0[int(j)]) + float(profile[int(j)]);\n",
    "        y0.append(r2j);\n",
    "\n",
    "        r1jj = float(y0[int(j)]) + float(gap)*0.3;\n",
    "        x0.append(r1jj);\n",
    "\n",
    "        value = 0;\n",
    "\n",
    "        for i in x0[::-1]:\n",
    "            value = (value+1)%2;\n",
    "            Rad = i*2;\n",
    "            circ = OsiteDif(mesh, center[0], center[1], pat, value, Rad);\n",
    "\n",
    "    #getting bin image of pattern\n",
    "    bpatBW = Im2bin(pat); #It seems DMD doesn't with this format only\n",
    "    # bpat = sk.color.grey2rgb(rpat); #In case RGB format is need\n",
    "    dummie = sk.img_as_bool(bpatBW);\n",
    "    \n",
    "#$#\n",
    "def ringOfDisks(mesh, center, radius, n, RoDpat, profile, gap):\n",
    "    xpos, ypos, origin = ring(center, radius, n);\n",
    "\n",
    "    for i, j in zip(xpos, ypos):\n",
    "        Osite(mesh,i,j,RoDpat);\n",
    "        # disk(mesh, [i,j], RoDpat, profile, gap);\n",
    "\n",
    "    bpatBW = Im2bin(RoDpat); #It seems DMD doesn't with this format only\n",
    "    dummie = sk.img_as_bool(bpatBW); #to a boolean\n",
    "\n",
    "    return dummie"
   ]
  },
  {
   "cell_type": "code",
   "execution_count": 7,
   "metadata": {},
   "outputs": [
    {
     "name": "stdout",
     "output_type": "stream",
     "text": [
      "Creating Ring of Disk Pattern: OK\n"
     ]
    },
    {
     "data": {
      "image/png": "[encoded data removed]",
      "text/plain": [
       "<Figure size 432x288 with 1 Axes>"
      ]
     },
     "metadata": {},
     "output_type": "display_data"
    }
   ],
   "source": [
    "print('Creating Ring of Disk Pattern: OK')\n",
    "\n",
    "RoD = ringOfDisks(mesh, origin, radius, n, RoDp, profile, gap);\n",
    "\n",
    "plt.figure()\n",
    "plt.imshow(RoD)\n",
    "plt.grid(b=None, which='both', axis='both')\n",
    "plt.show()"
   ]
  },
  {
   "cell_type": "code",
   "execution_count": 69,
   "metadata": {},
   "outputs": [
    {
     "ename": "ValueError",
     "evalue": "operands could not be broadcast together with shapes (768,1024) (2,) ",
     "output_type": "error",
     "traceback": [
      "\u001b[0;31m---------------------------------------------------------------------------\u001b[0m",
      "\u001b[0;31mValueError\u001b[0m                                Traceback (most recent call last)",
      "\u001b[0;32m<ipython-input-69-276b0d03e3b7>\u001b[0m in \u001b[0;36m<module>\u001b[0;34m()\u001b[0m\n\u001b[0;32m----> 1\u001b[0;31m \u001b[0mdiskpat\u001b[0m \u001b[0;34m=\u001b[0m \u001b[0mdisk2\u001b[0m\u001b[0;34m(\u001b[0m\u001b[0mmesh\u001b[0m\u001b[0;34m,\u001b[0m \u001b[0;34m[\u001b[0m\u001b[0;36m100\u001b[0m\u001b[0;34m,\u001b[0m\u001b[0;36m100\u001b[0m\u001b[0;34m]\u001b[0m\u001b[0;34m,\u001b[0m \u001b[0mdiskp\u001b[0m\u001b[0;34m,\u001b[0m \u001b[0mprofile\u001b[0m\u001b[0;34m,\u001b[0m \u001b[0mgap\u001b[0m\u001b[0;34m)\u001b[0m\u001b[0;34m;\u001b[0m\u001b[0;34m\u001b[0m\u001b[0m\n\u001b[0m",
      "\u001b[0;32m<ipython-input-68-277fa2c6908c>\u001b[0m in \u001b[0;36mdisk2\u001b[0;34m(mesh, center, pat, profile, gap)\u001b[0m\n\u001b[1;32m    131\u001b[0m             \u001b[0mvalue\u001b[0m \u001b[0;34m=\u001b[0m \u001b[0;34m(\u001b[0m\u001b[0mvalue\u001b[0m\u001b[0;34m+\u001b[0m\u001b[0;36m1\u001b[0m\u001b[0;34m)\u001b[0m\u001b[0;34m%\u001b[0m\u001b[0;36m2\u001b[0m\u001b[0;34m;\u001b[0m\u001b[0;34m\u001b[0m\u001b[0m\n\u001b[1;32m    132\u001b[0m             \u001b[0mRad\u001b[0m \u001b[0;34m=\u001b[0m \u001b[0mi\u001b[0m\u001b[0;34m*\u001b[0m\u001b[0;36m2\u001b[0m\u001b[0;34m;\u001b[0m\u001b[0;34m\u001b[0m\u001b[0m\n\u001b[0;32m--> 133\u001b[0;31m             \u001b[0mcirc\u001b[0m \u001b[0;34m=\u001b[0m \u001b[0mOsiteDif\u001b[0m\u001b[0;34m(\u001b[0m\u001b[0mmesh\u001b[0m\u001b[0;34m,\u001b[0m \u001b[0mx0\u001b[0m\u001b[0;34m,\u001b[0m \u001b[0my0\u001b[0m\u001b[0;34m,\u001b[0m \u001b[0mpat\u001b[0m\u001b[0;34m,\u001b[0m \u001b[0mvalue\u001b[0m\u001b[0;34m,\u001b[0m \u001b[0mRad\u001b[0m\u001b[0;34m)\u001b[0m\u001b[0;34m;\u001b[0m\u001b[0;34m\u001b[0m\u001b[0m\n\u001b[0m\u001b[1;32m    134\u001b[0m \u001b[0;34m\u001b[0m\u001b[0m\n\u001b[1;32m    135\u001b[0m     \u001b[0;31m#getting bin image of pattern\u001b[0m\u001b[0;34m\u001b[0m\u001b[0;34m\u001b[0m\u001b[0m\n",
      "\u001b[0;32m<ipython-input-68-277fa2c6908c>\u001b[0m in \u001b[0;36mOsiteDif\u001b[0;34m(mesh, i, j, pat, val, apRad)\u001b[0m\n\u001b[1;32m     52\u001b[0m \u001b[0;34m\u001b[0m\u001b[0m\n\u001b[1;32m     53\u001b[0m \u001b[0;32mdef\u001b[0m \u001b[0mOsiteDif\u001b[0m\u001b[0;34m(\u001b[0m\u001b[0mmesh\u001b[0m\u001b[0;34m,\u001b[0m \u001b[0mi\u001b[0m\u001b[0;34m,\u001b[0m \u001b[0mj\u001b[0m\u001b[0;34m,\u001b[0m \u001b[0mpat\u001b[0m\u001b[0;34m,\u001b[0m \u001b[0mval\u001b[0m\u001b[0;34m,\u001b[0m\u001b[0mapRad\u001b[0m\u001b[0;34m)\u001b[0m\u001b[0;34m:\u001b[0m\u001b[0;34m\u001b[0m\u001b[0m\n\u001b[0;32m---> 54\u001b[0;31m         \u001b[0mpat\u001b[0m\u001b[0;34m[\u001b[0m\u001b[0mnp\u001b[0m\u001b[0;34m.\u001b[0m\u001b[0mlogical_and\u001b[0m\u001b[0;34m(\u001b[0m \u001b[0mnp\u001b[0m\u001b[0;34m.\u001b[0m\u001b[0mabs\u001b[0m\u001b[0;34m(\u001b[0m \u001b[0;34m(\u001b[0m\u001b[0mmesh\u001b[0m\u001b[0;34m[\u001b[0m\u001b[0;36m0\u001b[0m\u001b[0;34m]\u001b[0m\u001b[0;34m-\u001b[0m\u001b[0mj\u001b[0m\u001b[0;34m)\u001b[0m\u001b[0;34m**\u001b[0m\u001b[0;36m2\u001b[0m \u001b[0;34m)\u001b[0m \u001b[0;34m<\u001b[0m \u001b[0mapRad\u001b[0m\u001b[0;34m/\u001b[0m\u001b[0;36m2\u001b[0m \u001b[0;34m-\u001b[0m \u001b[0mnp\u001b[0m\u001b[0;34m.\u001b[0m\u001b[0mabs\u001b[0m\u001b[0;34m(\u001b[0m\u001b[0;34m(\u001b[0m\u001b[0mmesh\u001b[0m\u001b[0;34m[\u001b[0m\u001b[0;36m1\u001b[0m\u001b[0;34m]\u001b[0m\u001b[0;34m-\u001b[0m\u001b[0mi\u001b[0m\u001b[0;34m)\u001b[0m\u001b[0;34m**\u001b[0m\u001b[0;36m2\u001b[0m\u001b[0;34m)\u001b[0m \u001b[0;34m,\u001b[0m \u001b[0mnp\u001b[0m\u001b[0;34m.\u001b[0m\u001b[0mabs\u001b[0m\u001b[0;34m(\u001b[0m \u001b[0;34m(\u001b[0m\u001b[0mmesh\u001b[0m\u001b[0;34m[\u001b[0m\u001b[0;36m1\u001b[0m\u001b[0;34m]\u001b[0m\u001b[0;34m-\u001b[0m\u001b[0mi\u001b[0m\u001b[0;34m)\u001b[0m\u001b[0;34m**\u001b[0m\u001b[0;36m2\u001b[0m \u001b[0;34m)\u001b[0m \u001b[0;34m<\u001b[0m \u001b[0mapRad\u001b[0m\u001b[0;34m/\u001b[0m\u001b[0;36m2\u001b[0m \u001b[0;34m-\u001b[0m \u001b[0mnp\u001b[0m\u001b[0;34m.\u001b[0m\u001b[0mabs\u001b[0m\u001b[0;34m(\u001b[0m \u001b[0;34m(\u001b[0m\u001b[0mmesh\u001b[0m\u001b[0;34m[\u001b[0m\u001b[0;36m0\u001b[0m\u001b[0;34m]\u001b[0m\u001b[0;34m-\u001b[0m\u001b[0mj\u001b[0m\u001b[0;34m)\u001b[0m\u001b[0;34m**\u001b[0m\u001b[0;36m2\u001b[0m \u001b[0;34m)\u001b[0m\u001b[0;34m)\u001b[0m\u001b[0;34m]\u001b[0m \u001b[0;34m=\u001b[0m \u001b[0mval\u001b[0m\u001b[0;34m;\u001b[0m\u001b[0;34m\u001b[0m\u001b[0m\n\u001b[0m\u001b[1;32m     55\u001b[0m \u001b[0;34m\u001b[0m\u001b[0m\n\u001b[1;32m     56\u001b[0m \u001b[0;32mdef\u001b[0m \u001b[0mdisk\u001b[0m\u001b[0;34m(\u001b[0m\u001b[0mmesh\u001b[0m\u001b[0;34m,\u001b[0m \u001b[0mcenter\u001b[0m\u001b[0;34m,\u001b[0m \u001b[0mpat\u001b[0m\u001b[0;34m,\u001b[0m \u001b[0mprofile\u001b[0m\u001b[0;34m,\u001b[0m \u001b[0mgap\u001b[0m\u001b[0;34m)\u001b[0m\u001b[0;34m:\u001b[0m\u001b[0;34m\u001b[0m\u001b[0m\n",
      "\u001b[0;31mValueError\u001b[0m: operands could not be broadcast together with shapes (768,1024) (2,) "
     ]
    }
   ],
   "source": [
    "diskpat = disk2(mesh, [100,100], diskp, profile, gap);"
   ]
  },
  {
   "cell_type": "code",
   "execution_count": 64,
   "metadata": {},
   "outputs": [
    {
     "data": {
      "image/png": "[encoded data removed]",
      "text/plain": [
       "<Figure size 432x288 with 1 Axes>"
      ]
     },
     "metadata": {},
     "output_type": "display_data"
    }
   ],
   "source": [
    "plt.figure()\n",
    "plt.imshow(diskp)\n",
    "plt.grid(b=None, which='both', axis='both')\n",
    "# plt.xlim(right=450,left=560)  # adjust the right leaving left unchanged\n",
    "# plt.ylim(top=320,bottom=450) \n",
    "plt.show()"
   ]
  },
  {
   "cell_type": "code",
   "execution_count": null,
   "metadata": {},
   "outputs": [],
   "source": []
  },
  {
   "cell_type": "code",
   "execution_count": null,
   "metadata": {},
   "outputs": [],
   "source": []
  }
 ],
 "metadata": {
  "kernelspec": {
   "display_name": "Python 3",
   "language": "python",
   "name": "python3"
  },
  "language_info": {
   "codemirror_mode": {
    "name": "ipython",
    "version": 3
   },
   "file_extension": ".py",
   "mimetype": "text/x-python",
   "name": "python",
   "nbconvert_exporter": "python",
   "pygments_lexer": "ipython3",
   "version": "3.6.2"
  }
 },
 "nbformat": 4,
 "nbformat_minor": 2
}
