{
 "cells": [
  {
   "cell_type": "code",
   "execution_count": 1,
   "metadata": {},
   "outputs": [],
   "source": [
    "#Solving the Bloch equations\n",
    "\n",
    "\n",
    "\"\"\"\n",
    "Created: Feb. 4th, 2019\n",
    "Last modification: Feb. 5th, 2019\n",
    "MORGADO, Manuel (M2-MCN , QMAT fellow)\n",
    "U. Strasbourg // ISIS // IPCMS\n",
    "Supervisor. Prf. Dr. S. Whitlock\n",
    "\n",
    "This solve the Bloch optical equation for a given value of the parameters:\n",
    "gamma, n, rabi_freq and delta (decay rate, number of thermal photons, Rabi's\n",
    "frequency) by using the scipy built-in command for solve differential equations\n",
    "such as odeint from scipy https://docs.scipy.org/doc/scipy/reference/generated/scipy.integrate.odeint.html\n",
    "\n",
    "Moreover, the plot for the different values of the decay and detuning haven being\n",
    "perform.\n",
    "\n",
    "(gamma = 0.0 ; delta = 0.0\n",
    "gamma = 0.0 ; delta = 4*Omega_R\n",
    "gamma = 0.2*Omega_R ; delta = 0.0\n",
    "gamma = 2*Omega_R ; delta = 0.0)\n",
    "\"\"\"\n",
    "\n",
    "#importing lybraries \n",
    "import numpy as np\n",
    "from scipy.integrate import odeint\n",
    "import matplotlib\n",
    "matplotlib.rcParams['text.usetex'] = True\n",
    "matplotlib.rcParams['text.latex.unicode'] = True\n",
    "import matplotlib.pyplot as plt\n",
    "from matplotlib.legend_handler import HandlerLine2D\n",
    "from mpl_toolkits.mplot3d import Axes3D\n"
   ]
  },
  {
   "cell_type": "code",
   "execution_count": 8,
   "metadata": {},
   "outputs": [
    {
     "name": "stdout",
     "output_type": "stream",
     "text": [
      "Introduce a value for the Rabi frequency: 0\n"
     ]
    }
   ],
   "source": [
    "#general parameters\n",
    "'''\n",
    "gamma : it is decay rate from 2->1 (float) [units]\n",
    "n : the number of thermal photons (float) [units]\n",
    "omega : Rabi's frequency or usually denoted as Omega_R (float)[units]\n",
    "delta : detuning (float) [units]\n",
    "g_decay : decay rate from 2->x wherex is somethingelse to \n",
    "'''\n",
    "\n",
    "omega = np.complex(input(\"Introduce a value for the Rabi frequency: \")); #for a given value of the Rabi frequency\n",
    "g_decay = [0.01*omega, 0.25*omega, 0.75*omega, 15*omega]; #for a set of values of decay rate\n",
    "\n",
    "# omega = np.linspace(0,5,10, dtype=np.complex_);\n",
    "# g_decay = np.linspace(0,3,500);\n",
    "\n",
    "gamma = [0.0, 0.0, 0.2*omega, 2*omega];\n",
    "delta = [0.0, 4*omega, 0.0, 0.0];\n",
    "n = 0.0;"
   ]
  },
  {
   "cell_type": "code",
   "execution_count": 9,
   "metadata": {},
   "outputs": [],
   "source": [
    "#definition of solver of complex diferential equations system based in 'oint' (scipy) for \n",
    "# solve the real part of the system.\n",
    "'''\n",
    "Internal function for odeint in complex DE took from: \n",
    "https://stackoverflow.com/questions/19910189/scipy-odeint-with-complex-initial-values \n",
    "'''\n",
    "def odeintz(func, z0, t, **kwargs):\n",
    "    \"\"\"An odeint-like function for complex valued differential equations.\"\"\"\n",
    "\n",
    "    # Disallow Jacobian-related arguments.\n",
    "    _unsupported_odeint_args = ['Dfun', 'col_deriv', 'ml', 'mu']\n",
    "    bad_args = [arg for arg in kwargs if arg in _unsupported_odeint_args]\n",
    "    if len(bad_args) > 0:\n",
    "        raise ValueError(\"The odeint argument %r is not supported by \"\n",
    "                         \"odeintz.\" % (bad_args[0],))\n",
    "\n",
    "    # Make sure z0 is a numpy array of type np.complex128.\n",
    "    z0 = np.array(z0, dtype=np.complex128, ndmin=1)\n",
    "\n",
    "    def realfunc(x, t, *args):\n",
    "        z = x.view(np.complex128)\n",
    "        dzdt = func(z, t, *args)\n",
    "        # func might return a python list, so convert its return\n",
    "        # value to an array with type np.complex128, and then return\n",
    "        # a np.float64 view of that array.\n",
    "        return np.asarray(dzdt, dtype=np.complex128).view(np.float64)\n",
    "\n",
    "    result = odeint(realfunc, z0.view(np.float64), t, **kwargs)\n",
    "\n",
    "    if kwargs.get('full_output', False):\n",
    "        z = result[0].view(np.complex128)\n",
    "        infodict = result[1]\n",
    "        return z, infodict\n",
    "    else:\n",
    "        z = result.view(np.complex128)\n",
    "        return z"
   ]
  },
  {
   "cell_type": "code",
   "execution_count": 10,
   "metadata": {},
   "outputs": [],
   "source": [
    "#bloch optical equations\n",
    "def bloch_eq(rho,t):\n",
    "    r11 = rho[0]\n",
    "    r12 = rho[1];\n",
    "    r22 = rho[2];\n",
    "\n",
    "    # dr11dt = ((-1j)*(np.conjugate(om))*(np.conjugate(r12))) + ((1j)*(om)*(r12)) + ((g)*(r22)) + ((n)*(g)*(r22)) - ((n)*(g)*(r11));\n",
    "    dr11dt = (-1j)*(np.conjugate(om))*(np.conjugate(r12)) + (1j)*(om)*(r12) + (g)*(n+1)*(r22) - (n)*(g)*(r11);\n",
    "    #Adding a decay term of the population for r22\n",
    "    # dr12dt = ((-1)*(1j)*(d)*(r12)) - ((1j)*(np.conjugate(om))*(r22-r11)) - (((0.5)*(g)*((2*n)+1)*(r12))) - ((1j)*(g_decay)*(r12));\n",
    "    dr12dt = (r12)*((-1j)*(d) - (0.5)*(g)*(2*n+1) - (1)*(gd)) - (1j)*(np.conjugate(om))*(r22-r11);\n",
    "    #Now the r11+r22=1 doesnt hold anymore\n",
    "    # dr22dt = ((1j)*(np.conjugate(om))*(np.conjugate(r12))) - ((1j)*(om)*(r12)) - ((n)*(g)*(r22)) - ((g)*(r22)) + ((n)*(g)*(r11)) - ((1j)*(g_decay)*(r22));\n",
    "    dr22dt = (1j)*(np.conjugate(om))*(np.conjugate(r12)) - (1j)*(om)*(r12) - ( (n)*(g) + (g) + ((1)*(gd)) )*(r22) + (n)*(g)*(r11);\n",
    "    return [dr11dt, dr12dt, dr22dt]"
   ]
  },
  {
   "cell_type": "code",
   "execution_count": 11,
   "metadata": {},
   "outputs": [],
   "source": [
    "#differential equation parameters\n",
    "'''\n",
    "t : linespace for the horizontal axis (time parameter)\n",
    "rho : density matrix [(r11, r12);(r21,222)]\n",
    "\n",
    "With initial conditions where initially the system it is in the ground-state\n",
    "r11[0]=0; r12[0]=0; r21[0]=0; r22[0]=1;\n",
    "'''\n",
    "rho0 = [0.0, 0.0, 1.0];\n",
    "t = np.linspace(0,10,500)\n",
    "rho11 = list();\n",
    "rho12 = list();\n",
    "rho22 = list();\n",
    "rhoT = list();"
   ]
  },
  {
   "cell_type": "code",
   "execution_count": 12,
   "metadata": {},
   "outputs": [],
   "source": [
    "#loop for the different values of gamma, delta, omega and gamma decay\n",
    "for k in range(4):\n",
    "\n",
    "    om = omega;\n",
    "    gd = g_decay[k];\n",
    "    # print(om, '|| ', type(om))\n",
    "    # print(gd, '||', type(gd))\n",
    "\n",
    "\n",
    "    g = gamma[1];\n",
    "    d = delta[1];\n",
    "\n",
    "    #solving the differential equation\n",
    "    rho, infodict = odeintz(bloch_eq, rho0, t, full_output=True);\n",
    "\n",
    "    #storing the k-th results for r12 and r22\n",
    "    r11 = rho[:,0]\n",
    "    r12 = rho[:,1];\n",
    "    r22 = rho[:,2];\n",
    "\n",
    "    #stacking in the data\n",
    "    rho11.append(r11)\n",
    "    rho12.append(r12);\n",
    "    rho22.append(r22);\n",
    "\n",
    "    #rho22 at certain time\n",
    "    # rhoT.append(r22[350]);"
   ]
  },
  {
   "cell_type": "code",
   "execution_count": 13,
   "metadata": {},
   "outputs": [
    {
     "data": {
      "image/png": "[encoded data removed]",
      "text/plain": [
       "<Figure size 432x288 with 1 Axes>"
      ]
     },
     "metadata": {},
     "output_type": "display_data"
    }
   ],
   "source": [
    "#ploting\n",
    "\n",
    "\n",
    "\n",
    "plt.figure('rho22')\n",
    "f1, = plt.plot(t, rho22[0], 'r-', label=r'\\Gamma = 4\\Omega_R; \\delta =  0; \\gamma = 0.01\\Omega_R')\n",
    "f2, = plt.plot(t, rho22[1], 'b-', label=r'\\Gamma = 4\\Omega_R; \\delta =  0; \\gamma = 0.25\\Omega_R')\n",
    "f3, = plt.plot(t, rho22[2], 'g-', label=r'\\Gamma = 4\\Omega_R; \\delta =  0; \\gamma = 0.75\\Omega_R')\n",
    "f4, = plt.plot(t, rho22[3], '-', label=r'\\Gamma = 4\\Omega_R; \\delta =  0; \\gamma = 15\\Omega_R')\n",
    "plt.legend(handler_map={f1: HandlerLine2D(numpoints=4)})\n",
    "plt.title(r'$\\rho_{22}$ with decay term. $\\Omega_R=1.75$')\n",
    "plt.ylabel(r'\\rho_{22}(t)')\n",
    "plt.xlabel('t')\n",
    "plt.grid()\n",
    "\n",
    "# fig = plt.figure('rho22 (omega, gdecay) @ t=1.75')\n",
    "# ax = fig.gca(projection='3d')\n",
    "# ax.plot_trisurf(np.real(omega), np.real(g_decay), np.real(rhoT))\n",
    "\n",
    "# plt.figure('rho12')\n",
    "# g1, = plt.plot(t, rho12[0], 'r-', label=r'\\Gamma = 0; \\delta =  0')\n",
    "# g2, = plt.plot(t, rho12[1], 'b-', label=r'\\Gamma = 0; \\delta =  4\\Omega_R')\n",
    "# g3, = plt.plot(t, rho12[2], 'g-', label=r'\\Gamma = 0.2\\Omega_R; \\delta = 0')\n",
    "# g4, = plt.plot(t, rho12[3], '-', label=r'\\Gamma = 2\\Omega_R; \\delta =  0')\n",
    "# plt.legend(handler_map={g1: HandlerLine2D(numpoints=4)})\n",
    "# # plt.legend(loc='best')\n",
    "# plt.ylabel(r'\\rho_{12}(t)')\n",
    "# plt.xlabel('t')\n",
    "# plt.grid()\n",
    "\n",
    "\n",
    "plt.show()"
   ]
  },
  {
   "cell_type": "code",
   "execution_count": null,
   "metadata": {},
   "outputs": [],
   "source": []
  }
 ],
 "metadata": {
  "kernelspec": {
   "display_name": "Python 2",
   "language": "python",
   "name": "python2"
  },
  "language_info": {
   "codemirror_mode": {
    "name": "ipython",
    "version": 2
   },
   "file_extension": ".py",
   "mimetype": "text/x-python",
   "name": "python",
   "nbconvert_exporter": "python",
   "pygments_lexer": "ipython2",
   "version": "2.7.13"
  }
 },
 "nbformat": 4,
 "nbformat_minor": 2
}
