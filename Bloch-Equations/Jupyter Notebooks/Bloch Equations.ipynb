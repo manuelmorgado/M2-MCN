{
 "cells": [
  {
   "cell_type": "code",
   "execution_count": 2,
   "metadata": {},
   "outputs": [],
   "source": [
    "import numpy as np\n",
    "from scipy.integrate import odeint\n",
    "import matplotlib\n",
    "matplotlib.rcParams['text.usetex'] = True\n",
    "matplotlib.rcParams['text.latex.unicode'] = True\n",
    "import matplotlib.pyplot as plt\n",
    "from matplotlib.legend_handler import HandlerLine2D\n",
    "from mpl_toolkits.mplot3d import Axes3D"
   ]
  },
  {
   "cell_type": "code",
   "execution_count": 33,
   "metadata": {},
   "outputs": [],
   "source": [
    "def bloch_eq(rho,t):\n",
    "    r11 = rho[0]\n",
    "    r12 = rho[1];\n",
    "    r22 = rho[2];\n",
    "\n",
    "    dr11dt = (-1j)*(np.conjugate(om))*(np.conjugate(r12)) + (1j)*(om)*(r12) + (g)*(n+1)*(r22) - (n)*(g)*(r11);\n",
    "    dr12dt = (r12)*((-1j)*(d) - (0.5)*(g)*(2*n+1) - (1j)*(gd)) - (1j)*(np.conjugate(om))*(r22-r11);\n",
    "    dr22dt = (1j)*(np.conjugate(om))*(np.conjugate(r12)) - (1j)*(om)*(r12) - ( (n)*(g) + (g) + ((1j)*(gd)) )*(r22) + (n)*(g)*(r11);\n",
    "    return [dr11dt, dr12dt, dr22dt]"
   ]
  },
  {
   "cell_type": "code",
   "execution_count": 34,
   "metadata": {},
   "outputs": [
    {
     "name": "stdout",
     "output_type": "stream",
     "text": [
      "Introduce a value for the Rabi frequency: 1.75\n"
     ]
    }
   ],
   "source": [
    "rho=[0,0,1];\n",
    "t = np.linspace(0,10,500)\n",
    "omega = np.complex(input(\"Introduce a value for the Rabi frequency: \")); #for a given value of the Rabi frequency\n",
    "g_decay = [0.01*omega, 0.25*omega, 0.75*omega, 100*omega]; #for a set of values of decay rate\n",
    "\n",
    "gamma = [0.0, 0.0, 0.2*omega, 2*omega];\n",
    "delta = [0.0, 4*omega, 0.0, 0.0];\n",
    "n = 0.0;"
   ]
  },
  {
   "cell_type": "code",
   "execution_count": 35,
   "metadata": {},
   "outputs": [
    {
     "name": "stdout",
     "output_type": "stream",
     "text": [
      "(1.3125+0j)\n"
     ]
    }
   ],
   "source": [
    "om = omega;\n",
    "gd = g_decay[1];\n",
    "g = gamma[3];\n",
    "d = delta[3];\n",
    "\n",
    "print(np.complex(g_decay[2]))"
   ]
  },
  {
   "cell_type": "code",
   "execution_count": 36,
   "metadata": {},
   "outputs": [
    {
     "data": {
      "text/plain": [
       "[(3.5+0j), -1.75j, (-3.5-0.4375j)]"
      ]
     },
     "execution_count": 36,
     "metadata": {},
     "output_type": "execute_result"
    }
   ],
   "source": [
    "bloch_eq(rho,t)\n"
   ]
  },
  {
   "cell_type": "code",
   "execution_count": null,
   "metadata": {},
   "outputs": [],
   "source": []
  }
 ],
 "metadata": {
  "kernelspec": {
   "display_name": "Python 2",
   "language": "python",
   "name": "python2"
  },
  "language_info": {
   "codemirror_mode": {
    "name": "ipython",
    "version": 2
   },
   "file_extension": ".py",
   "mimetype": "text/x-python",
   "name": "python",
   "nbconvert_exporter": "python",
   "pygments_lexer": "ipython2",
   "version": "2.7.13"
  }
 },
 "nbformat": 4,
 "nbformat_minor": 2
}
